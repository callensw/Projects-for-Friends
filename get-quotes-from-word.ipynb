{
 "cells": [
  {
   "cell_type": "markdown",
   "metadata": {},
   "source": [
    "# Getting Words in Quotes from a Word Document (.docx)\n",
    "A friend of mine who is a lawyer spends a lot of time reading legal documents. He was spending a lot of time going back and finding keywords in documents that were initially stated in quotations. He wanted a list of the keywords in quotations from any word document he was working on to reference quickly. He also wanted the duplicate words to only appear once.\n",
    "\n",
    "* Note: I was also able to convert the .py file into a .exe file, so that he could run the program without installing or knowing Python"
   ]
  },
  {
   "cell_type": "code",
   "execution_count": 1,
   "metadata": {},
   "outputs": [],
   "source": [
    "# Imports\n",
    "\n",
    "import re\n",
    "import docx"
   ]
  },
  {
   "cell_type": "code",
   "execution_count": 2,
   "metadata": {},
   "outputs": [
    {
     "name": "stdout",
     "output_type": "stream",
     "text": [
      "Please type the name of your document (i.e. 'my-doc'): get-quotes-test\n"
     ]
    }
   ],
   "source": [
    "words = input(\"Please type the name of your document (i.e. 'my-doc'): \") + \".docx\""
   ]
  },
  {
   "cell_type": "code",
   "execution_count": 3,
   "metadata": {},
   "outputs": [],
   "source": [
    "# Create a function to pull all of the text from a .docx file into a single string\n",
    "\n",
    "def getText(filename):\n",
    "    doc = docx.Document(filename)\n",
    "    fullText = []\n",
    "    for para in doc.paragraphs:\n",
    "        fullText.append(para.text)\n",
    "    return '\\n'.join(fullText)"
   ]
  },
  {
   "cell_type": "code",
   "execution_count": 4,
   "metadata": {},
   "outputs": [],
   "source": [
    "# Create a function to create a list of the words in quotations with no duplicates\n",
    "\n",
    "def getQuotes(a):\n",
    "    no_dups = []\n",
    "    with_dups = re.findall(r'\\“(.+?)\\”', a)\n",
    "    for x in with_dups:\n",
    "        if x not in no_dups:\n",
    "            no_dups.append(x)\n",
    "    return no_dups"
   ]
  },
  {
   "cell_type": "code",
   "execution_count": 5,
   "metadata": {},
   "outputs": [
    {
     "name": "stdout",
     "output_type": "stream",
     "text": [
      "['Company', 'you', 'Evaluation Material', 'Transaction', 'Representatives', 'letter agreement', 'Obligations', 'Quotes', 'More words']\n"
     ]
    }
   ],
   "source": [
    "test1 = getText(words)\n",
    "matches = getQuotes(test1)\n",
    "print(matches)"
   ]
  },
  {
   "cell_type": "code",
   "execution_count": 6,
   "metadata": {},
   "outputs": [],
   "source": [
    "# Create a text file named 'quoted-text' with the words in a horizontal list for easy viewing\n",
    "f=open('quoted-text.txt', 'w')\n",
    "matches=map(lambda x:x+'\\n', matches)\n",
    "f.writelines(matches)\n",
    "f.close()"
   ]
  }
 ],
 "metadata": {
  "kernelspec": {
   "display_name": "Python 3",
   "language": "python",
   "name": "python3"
  },
  "language_info": {
   "codemirror_mode": {
    "name": "ipython",
    "version": 3
   },
   "file_extension": ".py",
   "mimetype": "text/x-python",
   "name": "python",
   "nbconvert_exporter": "python",
   "pygments_lexer": "ipython3",
   "version": "3.8.2"
  }
 },
 "nbformat": 4,
 "nbformat_minor": 4
}
